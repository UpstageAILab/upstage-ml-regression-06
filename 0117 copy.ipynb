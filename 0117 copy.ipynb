{
 "cells": [
  {
   "cell_type": "code",
   "execution_count": 1,
   "metadata": {},
   "outputs": [],
   "source": [
    "# visualization\n",
    "import matplotlib.pyplot as plt\n",
    "import matplotlib.font_manager as fm\n",
    "fe = fm.FontEntry(\n",
    "    fname=r'/usr/share/fonts/truetype/nanum/NanumGothic.ttf', # ttf 파일이 저장되어 있는 경로\n",
    "    name='NanumBarunGothic')                        # 이 폰트의 원하는 이름 설정\n",
    "fm.fontManager.ttflist.insert(0, fe)              # Matplotlib에 폰트 추가\n",
    "plt.rcParams.update({'font.size': 10, 'font.family': 'NanumBarunGothic'}) # 폰트 설정\n",
    "plt.rc('font', family='NanumBarunGothic')\n",
    "import seaborn as sns\n",
    "\n",
    "# utils\n",
    "import pandas as pd\n",
    "import numpy as np\n",
    "from tqdm import tqdm\n",
    "import pickle\n",
    "import warnings;warnings.filterwarnings('ignore')\n",
    "\n",
    "# Model\n",
    "from sklearn.preprocessing import LabelEncoder\n",
    "from sklearn.model_selection import train_test_split\n",
    "from sklearn.metrics import mean_squared_error\n",
    "from sklearn.ensemble import RandomForestRegressor\n",
    "from sklearn import metrics\n",
    "\n",
    "#import eli5\n",
    "#from eli5.sklearn import PermutationImportance"
   ]
  },
  {
   "cell_type": "code",
   "execution_count": 2,
   "metadata": {},
   "outputs": [],
   "source": [
    "# 필요한 데이터를 load 하겠습니다.\n",
    "df_path = 'df_cleaned.csv'\n",
    "df = pd.read_csv(df_path)"
   ]
  },
  {
   "cell_type": "code",
   "execution_count": 3,
   "metadata": {},
   "outputs": [
    {
     "name": "stdout",
     "output_type": "stream",
     "text": [
      "(1027436, 28) (9260, 28)\n"
     ]
    }
   ],
   "source": [
    "# 이제 다시 train과 test dataset을 분할해줍니다. 위에서 제작해 놓았던 is_test 칼럼을 이용합니다.\n",
    "dt_train = df.query('is_test==0')\n",
    "dt_test = df.query('is_test==1')\n",
    "\n",
    "# 이제 is_test 칼럼은 drop해줍니다.\n",
    "dt_train.drop(['is_test'], axis = 1, inplace=True)\n",
    "dt_test.drop(['is_test'], axis = 1, inplace=True)\n",
    "print(dt_train.shape, dt_test.shape)"
   ]
  },
  {
   "cell_type": "code",
   "execution_count": 4,
   "metadata": {},
   "outputs": [
    {
     "data": {
      "text/html": [
       "<div>\n",
       "<style scoped>\n",
       "    .dataframe tbody tr th:only-of-type {\n",
       "        vertical-align: middle;\n",
       "    }\n",
       "\n",
       "    .dataframe tbody tr th {\n",
       "        vertical-align: top;\n",
       "    }\n",
       "\n",
       "    .dataframe thead th {\n",
       "        text-align: right;\n",
       "    }\n",
       "</style>\n",
       "<table border=\"1\" class=\"dataframe\">\n",
       "  <thead>\n",
       "    <tr style=\"text-align: right;\">\n",
       "      <th></th>\n",
       "      <th>번지</th>\n",
       "      <th>본번</th>\n",
       "      <th>부번</th>\n",
       "      <th>아파트명</th>\n",
       "      <th>전용면적</th>\n",
       "      <th>계약일</th>\n",
       "      <th>층</th>\n",
       "      <th>건축년도</th>\n",
       "      <th>도로명</th>\n",
       "      <th>k-전체동수</th>\n",
       "      <th>...</th>\n",
       "      <th>주차대수</th>\n",
       "      <th>좌표X</th>\n",
       "      <th>좌표Y</th>\n",
       "      <th>target</th>\n",
       "      <th>구</th>\n",
       "      <th>동</th>\n",
       "      <th>계약년</th>\n",
       "      <th>계약월</th>\n",
       "      <th>강남여부</th>\n",
       "      <th>신축여부</th>\n",
       "    </tr>\n",
       "  </thead>\n",
       "  <tbody>\n",
       "    <tr>\n",
       "      <th>1027436</th>\n",
       "      <td>658-1</td>\n",
       "      <td>658.0</td>\n",
       "      <td>1.0</td>\n",
       "      <td>개포6차우성</td>\n",
       "      <td>79.97</td>\n",
       "      <td>26</td>\n",
       "      <td>5</td>\n",
       "      <td>1987</td>\n",
       "      <td>언주로 3</td>\n",
       "      <td>8.0</td>\n",
       "      <td>...</td>\n",
       "      <td>262.0</td>\n",
       "      <td>127.05721</td>\n",
       "      <td>37.476763</td>\n",
       "      <td>13250.0</td>\n",
       "      <td>강남구</td>\n",
       "      <td>개포동</td>\n",
       "      <td>2023</td>\n",
       "      <td>7</td>\n",
       "      <td>1</td>\n",
       "      <td>0</td>\n",
       "    </tr>\n",
       "  </tbody>\n",
       "</table>\n",
       "<p>1 rows × 28 columns</p>\n",
       "</div>"
      ],
      "text/plain": [
       "            번지     본번   부번    아파트명   전용면적  계약일  층  건축년도    도로명  k-전체동수  ...  \\\n",
       "1027436  658-1  658.0  1.0  개포6차우성  79.97   26  5  1987  언주로 3     8.0  ...   \n",
       "\n",
       "          주차대수        좌표X        좌표Y   target    구    동   계약년  계약월  강남여부  신축여부  \n",
       "1027436  262.0  127.05721  37.476763  13250.0  강남구  개포동  2023    7     1     0  \n",
       "\n",
       "[1 rows x 28 columns]"
      ]
     },
     "execution_count": 4,
     "metadata": {},
     "output_type": "execute_result"
    }
   ],
   "source": [
    "dt_test.head(1)"
   ]
  },
  {
   "cell_type": "code",
   "execution_count": 5,
   "metadata": {},
   "outputs": [],
   "source": [
    "# dt_test의 target은 일단 0으로 임의로 채워주도록 하겠습니다.\n",
    "dt_test['target'] = 0"
   ]
  },
  {
   "cell_type": "code",
   "execution_count": 6,
   "metadata": {},
   "outputs": [
    {
     "name": "stdout",
     "output_type": "stream",
     "text": [
      "연속형 변수: ['본번', '부번', '전용면적', '계약일', '층', '건축년도', 'k-전체동수', 'k-전체세대수', 'k-연면적', 'k-주거전용면적', 'k-관리비부과면적', 'k-전용면적별세대현황(60㎡이하)', 'k-전용면적별세대현황(60㎡~85㎡이하)', 'k-85㎡~135㎡이하', '건축면적', '주차대수', '좌표X', '좌표Y', 'target', '계약년', '계약월', '강남여부', '신축여부']\n",
      "범주형 변수: ['번지', '아파트명', '도로명', '구', '동']\n"
     ]
    }
   ],
   "source": [
    "# 파생변수 제작으로 추가된 변수들이 존재하기에, 다시한번 연속형과 범주형 칼럼을 분리해주겠습니다.\n",
    "continuous_columns_v2 = []\n",
    "categorical_columns_v2 = []\n",
    "\n",
    "for column in dt_train.columns:\n",
    "    if pd.api.types.is_numeric_dtype(dt_train[column]):\n",
    "        continuous_columns_v2.append(column)\n",
    "    else:\n",
    "        categorical_columns_v2.append(column)\n",
    "\n",
    "print(\"연속형 변수:\", continuous_columns_v2)\n",
    "print(\"범주형 변수:\", categorical_columns_v2)"
   ]
  },
  {
   "cell_type": "code",
   "execution_count": 7,
   "metadata": {},
   "outputs": [
    {
     "data": {
      "text/plain": [
       "{'번지': 5663, '아파트명': 5780, '도로명': 8023, '구': 25, '동': 328}"
      ]
     },
     "execution_count": 7,
     "metadata": {},
     "output_type": "execute_result"
    }
   ],
   "source": [
    "# Counting the unique values in each categorical column\n",
    "unique_counts = {column: dt_train[column].nunique() for column in categorical_columns_v2}\n",
    "\n",
    "unique_counts\n"
   ]
  },
  {
   "cell_type": "code",
   "execution_count": 8,
   "metadata": {},
   "outputs": [
    {
     "name": "stderr",
     "output_type": "stream",
     "text": [
      "100%|██████████| 4/4 [00:04<00:00,  1.22s/it]\n"
     ]
    },
    {
     "data": {
      "text/plain": [
       "(     번지     본번   부번  아파트명   전용면적  계약일  층  건축년도   도로명  k-전체동수  ...  구_영등포구  \\\n",
       " 0  4342  658.0  1.0   303  79.97    8  3  1987  5365     8.0  ...   False   \n",
       " 1  4342  658.0  1.0   303  79.97   22  4  1987  5365     8.0  ...   False   \n",
       " 2  4342  658.0  1.0   303  54.98   28  5  1987  5365     8.0  ...   False   \n",
       " 3  4342  658.0  1.0   303  79.97    3  4  1987  5365     8.0  ...   False   \n",
       " 4  4342  658.0  1.0   303  79.97    8  2  1987  5365     8.0  ...   False   \n",
       " \n",
       "    구_용산구  구_은평구  구_종로구   구_중구  구_중랑구  강남여부_0  강남여부_1  신축여부_0  신축여부_1  \n",
       " 0  False  False  False  False  False   False    True    True   False  \n",
       " 1  False  False  False  False  False   False    True    True   False  \n",
       " 2  False  False  False  False  False   False    True    True   False  \n",
       " 3  False  False  False  False  False   False    True    True   False  \n",
       " 4  False  False  False  False  False   False    True    True   False  \n",
       " \n",
       " [5 rows x 54 columns],\n",
       "            번지     본번   부번  아파트명      전용면적  계약일   층  건축년도   도로명  k-전체동수  ...  \\\n",
       " 1027436  4342  658.0  1.0   303   79.9700   26   5  1987  5365     8.0  ...   \n",
       " 1027437  4318  651.0  1.0   304  108.2017   15  10  2021   440     2.0  ...   \n",
       " 1027438  4319  652.0  0.0   308  161.0000   28  15  1984   438     5.0  ...   \n",
       " 1027439  4319  652.0  0.0   308  133.4600   10  14  1984   438     5.0  ...   \n",
       " 1027440  4319  652.0  0.0   308  104.4300   18   6  1984   438     5.0  ...   \n",
       " \n",
       "          구_영등포구  구_용산구  구_은평구  구_종로구   구_중구  구_중랑구  강남여부_0  강남여부_1  신축여부_0  \\\n",
       " 1027436   False  False  False  False  False  False   False    True    True   \n",
       " 1027437   False  False  False  False  False  False   False    True   False   \n",
       " 1027438   False  False  False  False  False  False   False    True    True   \n",
       " 1027439   False  False  False  False  False  False   False    True    True   \n",
       " 1027440   False  False  False  False  False  False   False    True    True   \n",
       " \n",
       "          신축여부_1  \n",
       " 1027436   False  \n",
       " 1027437    True  \n",
       " 1027438   False  \n",
       " 1027439   False  \n",
       " 1027440   False  \n",
       " \n",
       " [5 rows x 54 columns])"
      ]
     },
     "execution_count": 8,
     "metadata": {},
     "output_type": "execute_result"
    }
   ],
   "source": [
    "from sklearn.preprocessing import LabelEncoder\n",
    "from tqdm import tqdm\n",
    "import numpy as np\n",
    "\n",
    "# Updating categorical_columns_v2 to include the columns to be label encoded\n",
    "label_encode_cols = [ '아파트명', '도로명', '번지', '동']\n",
    "\n",
    "# 각 변수에 대한 LabelEncoder를 저장할 딕셔너리\n",
    "label_encoders = {}\n",
    "\n",
    "# Update the Label Encoding process to handle new values in dt_test\n",
    "for col in tqdm(label_encode_cols):\n",
    "    lbl = LabelEncoder()\n",
    "\n",
    "    # Combining unique values from both train and test sets and adding an 'Other' category\n",
    "    all_values = np.union1d(dt_train[col].astype(str), dt_test[col].astype(str))\n",
    "    all_values = np.append(all_values, 'Other')\n",
    "\n",
    "    # Fit the label encoder with the extended list of values\n",
    "    lbl.fit(all_values)\n",
    "\n",
    "    # Transform train and test data\n",
    "    # New values in test set are replaced with 'Other'\n",
    "    dt_train[col] = lbl.transform(dt_train[col].astype(str))\n",
    "    dt_test[col] = dt_test[col].astype(str).apply(lambda x: x if x in lbl.classes_ else 'Other')\n",
    "    dt_test[col] = lbl.transform(dt_test[col])\n",
    "\n",
    "    # Saving the label encoder\n",
    "    label_encoders[col] = lbl\n",
    "\n",
    "# 원-핫 인코딩을 위한 칼럼 리스트 업데이트\n",
    "one_hot_encode_cols = ['구', '강남여부', '신축여부']\n",
    "\n",
    "# 원-핫 인코딩 수행\n",
    "dt_train = pd.get_dummies(dt_train, columns=one_hot_encode_cols)\n",
    "dt_test = pd.get_dummies(dt_test, columns=one_hot_encode_cols)\n",
    "\n",
    "# 결과 확인\n",
    "dt_train.head(), dt_test.head()\n"
   ]
  },
  {
   "cell_type": "code",
   "execution_count": 9,
   "metadata": {},
   "outputs": [
    {
     "data": {
      "text/html": [
       "<div>\n",
       "<style scoped>\n",
       "    .dataframe tbody tr th:only-of-type {\n",
       "        vertical-align: middle;\n",
       "    }\n",
       "\n",
       "    .dataframe tbody tr th {\n",
       "        vertical-align: top;\n",
       "    }\n",
       "\n",
       "    .dataframe thead th {\n",
       "        text-align: right;\n",
       "    }\n",
       "</style>\n",
       "<table border=\"1\" class=\"dataframe\">\n",
       "  <thead>\n",
       "    <tr style=\"text-align: right;\">\n",
       "      <th></th>\n",
       "      <th>번지</th>\n",
       "      <th>본번</th>\n",
       "      <th>부번</th>\n",
       "      <th>아파트명</th>\n",
       "      <th>전용면적</th>\n",
       "      <th>계약일</th>\n",
       "      <th>층</th>\n",
       "      <th>건축년도</th>\n",
       "      <th>도로명</th>\n",
       "      <th>k-전체동수</th>\n",
       "      <th>...</th>\n",
       "      <th>구_영등포구</th>\n",
       "      <th>구_용산구</th>\n",
       "      <th>구_은평구</th>\n",
       "      <th>구_종로구</th>\n",
       "      <th>구_중구</th>\n",
       "      <th>구_중랑구</th>\n",
       "      <th>강남여부_0</th>\n",
       "      <th>강남여부_1</th>\n",
       "      <th>신축여부_0</th>\n",
       "      <th>신축여부_1</th>\n",
       "    </tr>\n",
       "  </thead>\n",
       "  <tbody>\n",
       "    <tr>\n",
       "      <th>0</th>\n",
       "      <td>4342</td>\n",
       "      <td>658.0</td>\n",
       "      <td>1.0</td>\n",
       "      <td>303</td>\n",
       "      <td>79.97</td>\n",
       "      <td>8</td>\n",
       "      <td>3</td>\n",
       "      <td>1987</td>\n",
       "      <td>5365</td>\n",
       "      <td>8.0</td>\n",
       "      <td>...</td>\n",
       "      <td>False</td>\n",
       "      <td>False</td>\n",
       "      <td>False</td>\n",
       "      <td>False</td>\n",
       "      <td>False</td>\n",
       "      <td>False</td>\n",
       "      <td>False</td>\n",
       "      <td>True</td>\n",
       "      <td>True</td>\n",
       "      <td>False</td>\n",
       "    </tr>\n",
       "  </tbody>\n",
       "</table>\n",
       "<p>1 rows × 54 columns</p>\n",
       "</div>"
      ],
      "text/plain": [
       "     번지     본번   부번  아파트명   전용면적  계약일  층  건축년도   도로명  k-전체동수  ...  구_영등포구  \\\n",
       "0  4342  658.0  1.0   303  79.97    8  3  1987  5365     8.0  ...   False   \n",
       "\n",
       "   구_용산구  구_은평구  구_종로구   구_중구  구_중랑구  강남여부_0  강남여부_1  신축여부_0  신축여부_1  \n",
       "0  False  False  False  False  False   False    True    True   False  \n",
       "\n",
       "[1 rows x 54 columns]"
      ]
     },
     "execution_count": 9,
     "metadata": {},
     "output_type": "execute_result"
    }
   ],
   "source": [
    "dt_train.head(1)        # 레이블인코딩이 된 모습입니다."
   ]
  },
  {
   "cell_type": "code",
   "execution_count": 10,
   "metadata": {},
   "outputs": [],
   "source": [
    "assert dt_train.shape[1] == dt_test.shape[1]          # train/test dataset의 shape이 같은지 확인해주겠습니다."
   ]
  },
  {
   "cell_type": "code",
   "execution_count": 11,
   "metadata": {},
   "outputs": [],
   "source": [
    "# Target과 독립변수들을 분리해줍니다.\n",
    "y_train = dt_train['target']\n",
    "X_train = dt_train.drop(['target'], axis=1)\n",
    "\n",
    "# Hold out split을 사용해 학습 데이터와 검증 데이터를 8:2 비율로 나누겠습니다.\n",
    "X_train, X_val, y_train, y_val = train_test_split(X_train, y_train, test_size=0.2, random_state=2023)"
   ]
  },
  {
   "cell_type": "code",
   "execution_count": 12,
   "metadata": {},
   "outputs": [],
   "source": [
    "# # RandomForestRegressor를 이용해 회귀 모델을 적합시키겠습니다.\n",
    "model = RandomForestRegressor(n_estimators=5, criterion='squared_error', random_state=1, n_jobs=-1)\n",
    "model.fit(X_train, y_train)\n",
    "pred = model.predict(X_val)"
   ]
  },
  {
   "cell_type": "code",
   "execution_count": 13,
   "metadata": {},
   "outputs": [
    {
     "name": "stdout",
     "output_type": "stream",
     "text": [
      "RMSE test: 5615.166756816414\n"
     ]
    }
   ],
   "source": [
    "# 회귀 관련 metric을 통해 train/valid의 모델 적합 결과를 관찰합니다.\n",
    "print(f'RMSE test: {np.sqrt(metrics.mean_squared_error(y_val, pred))}')"
   ]
  },
  {
   "cell_type": "code",
   "execution_count": 14,
   "metadata": {},
   "outputs": [
    {
     "name": "stdout",
     "output_type": "stream",
     "text": [
      "CPU times: total: 15.6 ms\n",
      "Wall time: 50.5 ms\n"
     ]
    }
   ],
   "source": [
    "%%time\n",
    "X_test = dt_test.drop(['target'], axis=1)\n",
    "\n",
    "# Test dataset에 대한 inference를 진행합니다.\n",
    "real_test_pred = model.predict(X_test)"
   ]
  },
  {
   "cell_type": "code",
   "execution_count": 15,
   "metadata": {},
   "outputs": [
    {
     "data": {
      "text/plain": [
       "array([201200., 340000., 271100., ...,  84200.,  83240.,  87800.])"
      ]
     },
     "execution_count": 15,
     "metadata": {},
     "output_type": "execute_result"
    }
   ],
   "source": [
    "real_test_pred          # 예측값들이 출력됨을 확인할 수 있습니다."
   ]
  },
  {
   "cell_type": "code",
   "execution_count": 16,
   "metadata": {},
   "outputs": [],
   "source": [
    "# 앞서 예측한 예측값들을 저장합니다.\n",
    "preds_df = pd.DataFrame(real_test_pred.astype(int), columns=[\"target\"])\n",
    "preds_df.to_csv('output.csv', index=False)"
   ]
  }
 ],
 "metadata": {
  "kernelspec": {
   "display_name": "HousePrice",
   "language": "python",
   "name": "python3"
  },
  "language_info": {
   "codemirror_mode": {
    "name": "ipython",
    "version": 3
   },
   "file_extension": ".py",
   "mimetype": "text/x-python",
   "name": "python",
   "nbconvert_exporter": "python",
   "pygments_lexer": "ipython3",
   "version": "3.12.0"
  }
 },
 "nbformat": 4,
 "nbformat_minor": 2
}
