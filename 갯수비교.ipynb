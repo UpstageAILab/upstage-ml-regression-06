{
 "cells": [
  {
   "cell_type": "code",
   "execution_count": 33,
   "metadata": {},
   "outputs": [
    {
     "name": "stdout",
     "output_type": "stream",
     "text": [
      "Requirement already satisfied: eli5==0.13.0 in /opt/conda/lib/python3.10/site-packages (0.13.0)\n",
      "Requirement already satisfied: attrs>17.1.0 in /opt/conda/lib/python3.10/site-packages (from eli5==0.13.0) (23.1.0)\n",
      "Requirement already satisfied: jinja2>=3.0.0 in /opt/conda/lib/python3.10/site-packages (from eli5==0.13.0) (3.1.2)\n",
      "Requirement already satisfied: numpy>=1.9.0 in /opt/conda/lib/python3.10/site-packages (from eli5==0.13.0) (1.23.5)\n",
      "Requirement already satisfied: scipy in /opt/conda/lib/python3.10/site-packages (from eli5==0.13.0) (1.11.3)\n",
      "Requirement already satisfied: six in /opt/conda/lib/python3.10/site-packages (from eli5==0.13.0) (1.16.0)\n",
      "Requirement already satisfied: scikit-learn>=0.20 in /opt/conda/lib/python3.10/site-packages (from eli5==0.13.0) (1.2.2)\n",
      "Requirement already satisfied: graphviz in /opt/conda/lib/python3.10/site-packages (from eli5==0.13.0) (0.20.1)\n",
      "Requirement already satisfied: tabulate>=0.7.7 in /opt/conda/lib/python3.10/site-packages (from eli5==0.13.0) (0.9.0)\n",
      "Requirement already satisfied: MarkupSafe>=2.0 in /opt/conda/lib/python3.10/site-packages (from jinja2>=3.0.0->eli5==0.13.0) (2.1.1)\n",
      "Requirement already satisfied: joblib>=1.1.1 in /opt/conda/lib/python3.10/site-packages (from scikit-learn>=0.20->eli5==0.13.0) (1.3.2)\n",
      "Requirement already satisfied: threadpoolctl>=2.0.0 in /opt/conda/lib/python3.10/site-packages (from scikit-learn>=0.20->eli5==0.13.0) (3.2.0)\n",
      "\u001b[33mWARNING: Running pip as the 'root' user can result in broken permissions and conflicting behaviour with the system package manager. It is recommended to use a virtual environment instead: https://pip.pypa.io/warnings/venv\u001b[0m\u001b[33m\n",
      "Reading package lists... Done\n",
      "Building dependency tree       \n",
      "Reading state information... Done\n",
      "fonts-nanum is already the newest version (20180306-3).\n",
      "0 upgraded, 0 newly installed, 0 to remove and 14 not upgraded.\n"
     ]
    }
   ],
   "source": [
    "#!pip install eli5==0.13.0\n",
    "#!apt-get install -y fonts-nanum"
   ]
  },
  {
   "cell_type": "code",
   "execution_count": 34,
   "metadata": {},
   "outputs": [],
   "source": [
    "'''\n",
    "# visualization\n",
    "import matplotlib.pyplot as plt\n",
    "import matplotlib.font_manager as fm\n",
    "fe = fm.FontEntry(\n",
    "    fname=r'/usr/share/fonts/truetype/nanum/NanumGothic.ttf', # ttf 파일이 저장되어 있는 경로\n",
    "    name='NanumBarunGothic')                        # 이 폰트의 원하는 이름 설정\n",
    "fm.fontManager.ttflist.insert(0, fe)              # Matplotlib에 폰트 추가\n",
    "plt.rcParams.update({'font.size': 10, 'font.family': 'NanumBarunGothic'}) # 폰트 설정\n",
    "plt.rc('font', family='NanumBarunGothic')\n",
    "import seaborn as sns\n",
    "\n",
    "# utils\n",
    "import pandas as pd\n",
    "import numpy as np\n",
    "from tqdm import tqdm\n",
    "import pickle\n",
    "import warnings;warnings.filterwarnings('ignore')\n",
    "import seaborn as sns\n",
    "import matplotlib.pyplot as plt\n",
    "\n",
    "# Model\n",
    "from sklearn.preprocessing import LabelEncoder\n",
    "from sklearn.model_selection import train_test_split\n",
    "from sklearn.metrics import mean_squared_error\n",
    "from sklearn.ensemble import RandomForestRegressor\n",
    "from sklearn import metrics\n",
    "\n",
    "import eli5\n",
    "from eli5.sklearn import PermutationImportance\n",
    "'''"
   ]
  },
  {
   "cell_type": "code",
   "execution_count": 42,
   "metadata": {},
   "outputs": [],
   "source": [
    "import pandas as pd"
   ]
  },
  {
   "cell_type": "code",
   "execution_count": 43,
   "metadata": {},
   "outputs": [],
   "source": [
    "train_path = '/data/ephemeral/home/train.csv'\n",
    "test_path  = '/data/ephemeral/home/test.csv'\n",
    "subway_path = '/data/ephemeral/home/subway_feature.csv'\n",
    "bus_path = '/data/ephemeral/home/bus_feature.csv'\n",
    "sub_path = '/data/ephemeral/home/realprice_file.csv'\n",
    "sub_data = pd.read_csv(sub_path)\n",
    "df_train = pd.read_csv(train_path)\n",
    "df_test = pd.read_csv(test_path)\n",
    "subway = pd.read_csv(subway_path)\n",
    "bus = pd.read_csv(bus_path)"
   ]
  },
  {
   "cell_type": "code",
   "execution_count": 44,
   "metadata": {},
   "outputs": [],
   "source": [
    "# train/test 구분을 위한 칼럼을 하나 만들어 줍니다.\n",
    "df_train['is_test'] = 0\n",
    "df_test['is_test'] = 1\n",
    "concat = pd.concat([df_train, df_test])"
   ]
  },
  {
   "cell_type": "code",
   "execution_count": 45,
   "metadata": {},
   "outputs": [
    {
     "data": {
      "text/plain": [
       "0    1118822\n",
       "1       9272\n",
       "Name: is_test, dtype: int64"
      ]
     },
     "execution_count": 45,
     "metadata": {},
     "output_type": "execute_result"
    }
   ],
   "source": [
    "concat['is_test'].value_counts()"
   ]
  },
  {
   "cell_type": "code",
   "execution_count": 46,
   "metadata": {},
   "outputs": [],
   "source": [
    "\n",
    "# '거래년월' 변수의 데이터 개수 확인\n",
    "transaction_counts = concat['계약년월'].value_counts().reset_index()\n",
    "transaction_counts.columns = ['계약년월', '데이터 개수']\n"
   ]
  },
  {
   "cell_type": "code",
   "execution_count": 47,
   "metadata": {},
   "outputs": [],
   "source": [
    "# 'transaction_counts'를 새로운 데이터프레임으로 만들기\n",
    "df_transaction_counts = pd.DataFrame(transaction_counts)\n"
   ]
  },
  {
   "cell_type": "code",
   "execution_count": 48,
   "metadata": {},
   "outputs": [
    {
     "name": "stdout",
     "output_type": "stream",
     "text": [
      "새로운 데이터프레임:\n",
      "      계약년월  데이터 개수\n",
      "0   202006   16364\n",
      "1   201503   15510\n",
      "2   201808   14990\n",
      "3   201707   14922\n",
      "4   201705   14766\n",
      "..     ...     ...\n",
      "95  201708    5126\n",
      "96  201306    5113\n",
      "97  202105    5011\n",
      "98  201601    4998\n",
      "99  200706    4980\n",
      "\n",
      "[100 rows x 2 columns]\n"
     ]
    }
   ],
   "source": [
    "print(\"새로운 데이터프레임:\")\n",
    "print(df_transaction_counts.head(100))"
   ]
  },
  {
   "cell_type": "code",
   "execution_count": 49,
   "metadata": {},
   "outputs": [
    {
     "data": {
      "text/html": [
       "<div>\n",
       "<style scoped>\n",
       "    .dataframe tbody tr th:only-of-type {\n",
       "        vertical-align: middle;\n",
       "    }\n",
       "\n",
       "    .dataframe tbody tr th {\n",
       "        vertical-align: top;\n",
       "    }\n",
       "\n",
       "    .dataframe thead th {\n",
       "        text-align: right;\n",
       "    }\n",
       "</style>\n",
       "<table border=\"1\" class=\"dataframe\">\n",
       "  <thead>\n",
       "    <tr style=\"text-align: right;\">\n",
       "      <th></th>\n",
       "      <th>계약년월</th>\n",
       "      <th>데이터 개수</th>\n",
       "    </tr>\n",
       "  </thead>\n",
       "  <tbody>\n",
       "    <tr>\n",
       "      <th>0</th>\n",
       "      <td>202006</td>\n",
       "      <td>16364</td>\n",
       "    </tr>\n",
       "    <tr>\n",
       "      <th>1</th>\n",
       "      <td>201503</td>\n",
       "      <td>15510</td>\n",
       "    </tr>\n",
       "    <tr>\n",
       "      <th>2</th>\n",
       "      <td>201808</td>\n",
       "      <td>14990</td>\n",
       "    </tr>\n",
       "    <tr>\n",
       "      <th>3</th>\n",
       "      <td>201707</td>\n",
       "      <td>14922</td>\n",
       "    </tr>\n",
       "    <tr>\n",
       "      <th>4</th>\n",
       "      <td>201705</td>\n",
       "      <td>14766</td>\n",
       "    </tr>\n",
       "    <tr>\n",
       "      <th>...</th>\n",
       "      <td>...</td>\n",
       "      <td>...</td>\n",
       "    </tr>\n",
       "    <tr>\n",
       "      <th>196</th>\n",
       "      <td>202207</td>\n",
       "      <td>690</td>\n",
       "    </tr>\n",
       "    <tr>\n",
       "      <th>197</th>\n",
       "      <td>202211</td>\n",
       "      <td>646</td>\n",
       "    </tr>\n",
       "    <tr>\n",
       "      <th>198</th>\n",
       "      <td>202209</td>\n",
       "      <td>620</td>\n",
       "    </tr>\n",
       "    <tr>\n",
       "      <th>199</th>\n",
       "      <td>202210</td>\n",
       "      <td>576</td>\n",
       "    </tr>\n",
       "    <tr>\n",
       "      <th>200</th>\n",
       "      <td>201609</td>\n",
       "      <td>460</td>\n",
       "    </tr>\n",
       "  </tbody>\n",
       "</table>\n",
       "<p>201 rows × 2 columns</p>\n",
       "</div>"
      ],
      "text/plain": [
       "       계약년월  데이터 개수\n",
       "0    202006   16364\n",
       "1    201503   15510\n",
       "2    201808   14990\n",
       "3    201707   14922\n",
       "4    201705   14766\n",
       "..      ...     ...\n",
       "196  202207     690\n",
       "197  202211     646\n",
       "198  202209     620\n",
       "199  202210     576\n",
       "200  201609     460\n",
       "\n",
       "[201 rows x 2 columns]"
      ]
     },
     "execution_count": 49,
     "metadata": {},
     "output_type": "execute_result"
    }
   ],
   "source": [
    "df_transaction_counts"
   ]
  },
  {
   "cell_type": "code",
   "execution_count": 50,
   "metadata": {},
   "outputs": [
    {
     "name": "stdout",
     "output_type": "stream",
     "text": [
      "합친 데이터프레임:\n",
      "       계약년월  데이터 개수  실거래지수\n",
      "0    202006   16364  140.2\n",
      "1    201503   15510   79.4\n",
      "2    201808   14990  115.0\n",
      "3    201707   14922   97.7\n",
      "4    201705   14766   93.4\n",
      "..      ...     ...    ...\n",
      "196  202207     690  173.7\n",
      "197  202211     646  147.8\n",
      "198  202209     620  164.4\n",
      "199  202210     576  156.6\n",
      "200  201609     460   90.4\n",
      "\n",
      "[201 rows x 3 columns]\n"
     ]
    }
   ],
   "source": [
    "\n",
    "# 'df_transaction_counts'와 'sub_data'를 '계약년월'을 기준으로 합치기\n",
    "merged_df = pd.merge(df_transaction_counts, sub_data, on='계약년월', how='left')\n",
    "\n",
    "print(\"합친 데이터프레임:\")\n",
    "print(merged_df)"
   ]
  },
  {
   "cell_type": "code",
   "execution_count": 51,
   "metadata": {},
   "outputs": [
    {
     "name": "stdout",
     "output_type": "stream",
     "text": [
      "결측치를 제거한 데이터프레임:\n",
      "       계약년월  데이터 개수  실거래지수\n",
      "0    202006   16364  140.2\n",
      "1    201503   15510   79.4\n",
      "2    201808   14990  115.0\n",
      "3    201707   14922   97.7\n",
      "4    201705   14766   93.4\n",
      "..      ...     ...    ...\n",
      "196  202207     690  173.7\n",
      "197  202211     646  147.8\n",
      "198  202209     620  164.4\n",
      "199  202210     576  156.6\n",
      "200  201609     460   90.4\n",
      "\n",
      "[119 rows x 3 columns]\n"
     ]
    }
   ],
   "source": [
    "merged_df_no_missing = merged_df.dropna()\n",
    "\n",
    "print(\"결측치를 제거한 데이터프레임:\")\n",
    "print(merged_df_no_missing)"
   ]
  },
  {
   "cell_type": "code",
   "execution_count": 53,
   "metadata": {},
   "outputs": [
    {
     "name": "stdout",
     "output_type": "stream",
     "text": [
      "새로운 열 'new'를 추가한 결과:\n",
      "       계약년월  데이터 개수  실거래지수        new\n",
      "0    202006   16364  140.2  2294232.8\n",
      "1    201503   15510   79.4  1231494.0\n",
      "2    201808   14990  115.0  1723850.0\n",
      "3    201707   14922   97.7  1457879.4\n",
      "4    201705   14766   93.4  1379144.4\n",
      "..      ...     ...    ...        ...\n",
      "196  202207     690  173.7   119853.0\n",
      "197  202211     646  147.8    95478.8\n",
      "198  202209     620  164.4   101928.0\n",
      "199  202210     576  156.6    90201.6\n",
      "200  201609     460   90.4    41584.0\n",
      "\n",
      "[119 rows x 4 columns]\n"
     ]
    }
   ],
   "source": [
    "# 데이터 개수와 '실거래지수'를 곱한 결과를 'new' 변수로 나누기\n",
    "merged_df_no_missing['new'] = (merged_df_no_missing['데이터 개수'] * merged_df_no_missing['실거래지수'])\n",
    "\n",
    "print(\"새로운 열 'new'를 추가한 결과:\")\n",
    "print(merged_df_no_missing)"
   ]
  },
  {
   "cell_type": "code",
   "execution_count": 54,
   "metadata": {},
   "outputs": [
    {
     "name": "stdout",
     "output_type": "stream",
     "text": [
      "계약년월을 크기순으로 정렬한 결과:\n",
      "       계약년월  데이터 개수  실거래지수       new\n",
      "91   201311    5269   74.5  392540.5\n",
      "66   201312    6504   74.3  483247.2\n",
      "49   201401    7247   75.0  543525.0\n",
      "36   201402    8798   75.6  665128.8\n",
      "44   201403    8010   76.0  608760.0\n",
      "..      ...     ...    ...       ...\n",
      "148  202305    3500  153.5  537250.0\n",
      "133  202306    3867  156.3  604412.1\n",
      "144  202307    3695  157.9  583440.5\n",
      "134  202308    3864  159.8  617467.2\n",
      "180  202309    1713  161.4  276478.2\n",
      "\n",
      "[119 rows x 4 columns]\n"
     ]
    }
   ],
   "source": [
    "# '계약년월'을 크기순으로 정렬\n",
    "merged_df_no_missing_sorted = merged_df_no_missing.sort_values(by='계약년월')\n",
    "\n",
    "print(\"계약년월을 크기순으로 정렬한 결과:\")\n",
    "print(merged_df_no_missing_sorted)"
   ]
  },
  {
   "cell_type": "code",
   "execution_count": 75,
   "metadata": {},
   "outputs": [
    {
     "name": "stdout",
     "output_type": "stream",
     "text": [
      "202003부터 202306까지의 'new' 값의 평균: 158.9664615254321\n"
     ]
    }
   ],
   "source": [
    "\n",
    "# 202001~202306까지의 'new' 값을 더한 후 데이터 개수로 나누기\n",
    "start_year_month = '202003'\n",
    "end_year_month = '202306'\n",
    "\n",
    "# '계약년월' 열을 문자열로 변환하여 비교\n",
    "filtered_merged_df = merged_df_no_missing_sorted[\n",
    "    (merged_df_no_missing_sorted['계약년월'].astype(str) >= start_year_month) & \n",
    "    (merged_df_no_missing_sorted['계약년월'].astype(str) <= end_year_month)\n",
    "]\n",
    "\n",
    "total_new = filtered_merged_df['new'].sum()\n",
    "average_new = total_new / filtered_merged_df['데이터 개수'].sum()\n",
    "\n",
    "print(f\"{start_year_month}부터 {end_year_month}까지의 'new' 값의 평균: {average_new}\")"
   ]
  }
 ],
 "metadata": {
  "kernelspec": {
   "display_name": "base",
   "language": "python",
   "name": "python3"
  },
  "language_info": {
   "codemirror_mode": {
    "name": "ipython",
    "version": 3
   },
   "file_extension": ".py",
   "mimetype": "text/x-python",
   "name": "python",
   "nbconvert_exporter": "python",
   "pygments_lexer": "ipython3",
   "version": "3.10.13"
  }
 },
 "nbformat": 4,
 "nbformat_minor": 2
}
