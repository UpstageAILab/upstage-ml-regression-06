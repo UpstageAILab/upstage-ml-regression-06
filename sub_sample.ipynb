{
 "cells": [
  {
   "cell_type": "code",
   "execution_count": 55,
   "metadata": {},
   "outputs": [
    {
     "data": {
      "text/plain": [
       "'\\n!pip install eli5==0.13.0\\n!apt-get install -y fonts-nanum\\n'"
      ]
     },
     "execution_count": 55,
     "metadata": {},
     "output_type": "execute_result"
    }
   ],
   "source": [
    "'''\n",
    "!pip install eli5==0.13.0\n",
    "!apt-get install -y fonts-nanum\n",
    "'''"
   ]
  },
  {
   "cell_type": "code",
   "execution_count": 56,
   "metadata": {},
   "outputs": [],
   "source": [
    "\n",
    "# visualization\n",
    "import matplotlib.pyplot as plt\n",
    "import matplotlib.font_manager as fm\n",
    "fe = fm.FontEntry(\n",
    "    fname=r'/usr/share/fonts/truetype/nanum/NanumGothic.ttf', # ttf 파일이 저장되어 있는 경로\n",
    "    name='NanumBarunGothic')                        # 이 폰트의 원하는 이름 설정\n",
    "fm.fontManager.ttflist.insert(0, fe)              # Matplotlib에 폰트 추가\n",
    "plt.rcParams.update({'font.size': 10, 'font.family': 'NanumBarunGothic'}) # 폰트 설정\n",
    "plt.rc('font', family='NanumBarunGothic')\n",
    "import seaborn as sns\n",
    "\n",
    "# utils\n",
    "import pandas as pd\n",
    "import numpy as np\n",
    "from tqdm import tqdm\n",
    "import pickle\n",
    "import warnings;warnings.filterwarnings('ignore')\n",
    "import seaborn as sns\n",
    "import matplotlib.pyplot as plt\n",
    "\n",
    "# Model\n",
    "from sklearn.preprocessing import LabelEncoder\n",
    "from sklearn.model_selection import train_test_split\n",
    "from sklearn.metrics import mean_squared_error\n",
    "from sklearn.ensemble import RandomForestRegressor\n",
    "from sklearn import metrics\n",
    "\n",
    "import eli5\n",
    "from eli5.sklearn import PermutationImportance\n"
   ]
  },
  {
   "cell_type": "code",
   "execution_count": 57,
   "metadata": {},
   "outputs": [],
   "source": [
    "train_path = '/data/ephemeral/home/train.csv'\n",
    "test_path  = '/data/ephemeral/home/test.csv'\n",
    "subway_path = '/data/ephemeral/home/subway_feature.csv'\n",
    "bus_path = '/data/ephemeral/home/bus_feature.csv'\n",
    "sub_path = '/data/ephemeral/home/realprice_file.csv'\n",
    "sub_data = pd.read_csv(sub_path)\n",
    "df_train = pd.read_csv(train_path)\n",
    "df_test = pd.read_csv(test_path)\n",
    "subway = pd.read_csv(subway_path)\n",
    "bus = pd.read_csv(bus_path)"
   ]
  },
  {
   "cell_type": "code",
   "execution_count": 58,
   "metadata": {},
   "outputs": [],
   "source": [
    "# train/test 구분을 위한 칼럼을 하나 만들어 줍니다.\n",
    "df_train['is_test'] = 0\n",
    "df_test['is_test'] = 1\n",
    "concat = pd.concat([df_train, df_test])"
   ]
  },
  {
   "cell_type": "code",
   "execution_count": 59,
   "metadata": {},
   "outputs": [
    {
     "data": {
      "text/plain": [
       "0    1118822\n",
       "1       9272\n",
       "Name: is_test, dtype: int64"
      ]
     },
     "execution_count": 59,
     "metadata": {},
     "output_type": "execute_result"
    }
   ],
   "source": [
    "concat['is_test'].value_counts()"
   ]
  },
  {
   "cell_type": "code",
   "execution_count": 60,
   "metadata": {},
   "outputs": [],
   "source": [
    "concat = concat.rename(columns={'전용면적(㎡)':'전용면적'})"
   ]
  },
  {
   "cell_type": "code",
   "execution_count": 61,
   "metadata": {},
   "outputs": [
    {
     "name": "stdout",
     "output_type": "stream",
     "text": [
      "0           <NA>\n",
      "1           <NA>\n",
      "2           <NA>\n",
      "3           <NA>\n",
      "4           <NA>\n",
      "          ...   \n",
      "9267        <NA>\n",
      "9268        <NA>\n",
      "9269        <NA>\n",
      "9270        <NA>\n",
      "9271    20230905\n",
      "Name: 등기신청일자, Length: 1128094, dtype: Int64\n"
     ]
    }
   ],
   "source": [
    "concat['등기신청일자'] = pd.to_numeric(concat['등기신청일자'], errors='coerce').astype('Int64')\n",
    "print(concat['등기신청일자'])"
   ]
  },
  {
   "cell_type": "code",
   "execution_count": 62,
   "metadata": {},
   "outputs": [
    {
     "name": "stdout",
     "output_type": "stream",
     "text": [
      "      해제사유발생여부\n",
      "0            0\n",
      "1            0\n",
      "2            0\n",
      "3            0\n",
      "4            0\n",
      "...        ...\n",
      "9267         1\n",
      "9268         0\n",
      "9269         0\n",
      "9270         0\n",
      "9271         0\n",
      "\n",
      "[1128094 rows x 1 columns]\n"
     ]
    }
   ],
   "source": [
    "concat['해제사유발생여부'] = pd.notnull(concat['해제사유발생일']).astype(int)\n",
    "print(concat[['해제사유발생여부']])"
   ]
  },
  {
   "cell_type": "code",
   "execution_count": 63,
   "metadata": {},
   "outputs": [
    {
     "name": "stdout",
     "output_type": "stream",
     "text": [
      "      등기신청일자여부\n",
      "0            0\n",
      "1            0\n",
      "2            0\n",
      "3            0\n",
      "4            0\n",
      "...        ...\n",
      "9267         0\n",
      "9268         0\n",
      "9269         0\n",
      "9270         0\n",
      "9271         1\n",
      "\n",
      "[1128094 rows x 1 columns]\n"
     ]
    }
   ],
   "source": [
    "concat['등기신청일자여부'] = pd.notnull(concat['등기신청일자']).astype(int)\n",
    "print(concat[['등기신청일자여부']])"
   ]
  },
  {
   "cell_type": "markdown",
   "metadata": {},
   "source": [
    "최종선택 column\n",
    "- 아파트명, 도로명, 전용면적, 계약년월, 건축년도\n",
    "제거 고민 기준\n",
    "- 해제사유발생여부, 등기신청여부"
   ]
  },
  {
   "cell_type": "code",
   "execution_count": 64,
   "metadata": {},
   "outputs": [],
   "source": [
    "concat = concat.assign(year=concat['계약년월'].astype('str').str[:4].astype(int)).query('year > 2013')"
   ]
  },
  {
   "cell_type": "code",
   "execution_count": 65,
   "metadata": {},
   "outputs": [],
   "source": [
    "merged_df = pd.merge(concat, sub_data, on='계약년월', how='left')"
   ]
  },
  {
   "cell_type": "code",
   "execution_count": 66,
   "metadata": {},
   "outputs": [
    {
     "data": {
      "text/plain": [
       "0         101.0\n",
       "1         101.0\n",
       "2         101.0\n",
       "3         103.0\n",
       "4         103.0\n",
       "          ...  \n",
       "731133    157.9\n",
       "731134    157.9\n",
       "731135    159.8\n",
       "731136    161.4\n",
       "731137    161.4\n",
       "Name: 실거래지수, Length: 731138, dtype: float64"
      ]
     },
     "execution_count": 66,
     "metadata": {},
     "output_type": "execute_result"
    }
   ],
   "source": [
    "merged_df['실거래지수']"
   ]
  },
  {
   "cell_type": "code",
   "execution_count": 67,
   "metadata": {},
   "outputs": [],
   "source": [
    "concat = merged_df"
   ]
  },
  {
   "cell_type": "code",
   "execution_count": 68,
   "metadata": {},
   "outputs": [],
   "source": [
    "selected_columns = ['도로명', '전용면적', '실거래지수','is_test','target']\n",
    "selected_concat = concat[selected_columns]"
   ]
  },
  {
   "cell_type": "code",
   "execution_count": 69,
   "metadata": {},
   "outputs": [
    {
     "data": {
      "text/html": [
       "<div>\n",
       "<style scoped>\n",
       "    .dataframe tbody tr th:only-of-type {\n",
       "        vertical-align: middle;\n",
       "    }\n",
       "\n",
       "    .dataframe tbody tr th {\n",
       "        vertical-align: top;\n",
       "    }\n",
       "\n",
       "    .dataframe thead th {\n",
       "        text-align: right;\n",
       "    }\n",
       "</style>\n",
       "<table border=\"1\" class=\"dataframe\">\n",
       "  <thead>\n",
       "    <tr style=\"text-align: right;\">\n",
       "      <th></th>\n",
       "      <th>도로명</th>\n",
       "      <th>전용면적</th>\n",
       "      <th>실거래지수</th>\n",
       "      <th>is_test</th>\n",
       "      <th>target</th>\n",
       "    </tr>\n",
       "  </thead>\n",
       "  <tbody>\n",
       "    <tr>\n",
       "      <th>0</th>\n",
       "      <td>언주로 3</td>\n",
       "      <td>79.97</td>\n",
       "      <td>101.0</td>\n",
       "      <td>0</td>\n",
       "      <td>124000.0</td>\n",
       "    </tr>\n",
       "    <tr>\n",
       "      <th>1</th>\n",
       "      <td>언주로 3</td>\n",
       "      <td>79.97</td>\n",
       "      <td>101.0</td>\n",
       "      <td>0</td>\n",
       "      <td>123500.0</td>\n",
       "    </tr>\n",
       "    <tr>\n",
       "      <th>2</th>\n",
       "      <td>언주로 3</td>\n",
       "      <td>54.98</td>\n",
       "      <td>101.0</td>\n",
       "      <td>0</td>\n",
       "      <td>91500.0</td>\n",
       "    </tr>\n",
       "    <tr>\n",
       "      <th>3</th>\n",
       "      <td>언주로 3</td>\n",
       "      <td>79.97</td>\n",
       "      <td>103.0</td>\n",
       "      <td>0</td>\n",
       "      <td>130000.0</td>\n",
       "    </tr>\n",
       "    <tr>\n",
       "      <th>4</th>\n",
       "      <td>언주로 3</td>\n",
       "      <td>79.97</td>\n",
       "      <td>103.0</td>\n",
       "      <td>0</td>\n",
       "      <td>117000.0</td>\n",
       "    </tr>\n",
       "    <tr>\n",
       "      <th>...</th>\n",
       "      <td>...</td>\n",
       "      <td>...</td>\n",
       "      <td>...</td>\n",
       "      <td>...</td>\n",
       "      <td>...</td>\n",
       "    </tr>\n",
       "    <tr>\n",
       "      <th>731133</th>\n",
       "      <td>신내역로1길 85</td>\n",
       "      <td>84.65</td>\n",
       "      <td>157.9</td>\n",
       "      <td>1</td>\n",
       "      <td>NaN</td>\n",
       "    </tr>\n",
       "    <tr>\n",
       "      <th>731134</th>\n",
       "      <td>신내역로1길 85</td>\n",
       "      <td>84.62</td>\n",
       "      <td>157.9</td>\n",
       "      <td>1</td>\n",
       "      <td>NaN</td>\n",
       "    </tr>\n",
       "    <tr>\n",
       "      <th>731135</th>\n",
       "      <td>신내역로1길 85</td>\n",
       "      <td>101.65</td>\n",
       "      <td>159.8</td>\n",
       "      <td>1</td>\n",
       "      <td>NaN</td>\n",
       "    </tr>\n",
       "    <tr>\n",
       "      <th>731136</th>\n",
       "      <td>신내역로1길 85</td>\n",
       "      <td>84.94</td>\n",
       "      <td>161.4</td>\n",
       "      <td>1</td>\n",
       "      <td>NaN</td>\n",
       "    </tr>\n",
       "    <tr>\n",
       "      <th>731137</th>\n",
       "      <td>신내역로1길 85</td>\n",
       "      <td>84.65</td>\n",
       "      <td>161.4</td>\n",
       "      <td>1</td>\n",
       "      <td>NaN</td>\n",
       "    </tr>\n",
       "  </tbody>\n",
       "</table>\n",
       "<p>731138 rows × 5 columns</p>\n",
       "</div>"
      ],
      "text/plain": [
       "              도로명    전용면적  실거래지수  is_test    target\n",
       "0           언주로 3   79.97  101.0        0  124000.0\n",
       "1           언주로 3   79.97  101.0        0  123500.0\n",
       "2           언주로 3   54.98  101.0        0   91500.0\n",
       "3           언주로 3   79.97  103.0        0  130000.0\n",
       "4           언주로 3   79.97  103.0        0  117000.0\n",
       "...           ...     ...    ...      ...       ...\n",
       "731133  신내역로1길 85   84.65  157.9        1       NaN\n",
       "731134  신내역로1길 85   84.62  157.9        1       NaN\n",
       "731135  신내역로1길 85  101.65  159.8        1       NaN\n",
       "731136  신내역로1길 85   84.94  161.4        1       NaN\n",
       "731137  신내역로1길 85   84.65  161.4        1       NaN\n",
       "\n",
       "[731138 rows x 5 columns]"
      ]
     },
     "execution_count": 69,
     "metadata": {},
     "output_type": "execute_result"
    }
   ],
   "source": [
    "selected_concat"
   ]
  },
  {
   "cell_type": "code",
   "execution_count": 70,
   "metadata": {},
   "outputs": [],
   "source": [
    "selected_concat['도로명'] = selected_concat['도로명'].astype('category')"
   ]
  },
  {
   "cell_type": "code",
   "execution_count": 71,
   "metadata": {},
   "outputs": [
    {
     "name": "stdout",
     "output_type": "stream",
     "text": [
      "<class 'pandas.core.frame.DataFrame'>\n",
      "Int64Index: 731138 entries, 0 to 731137\n",
      "Data columns (total 5 columns):\n",
      " #   Column   Non-Null Count   Dtype   \n",
      "---  ------   --------------   -----   \n",
      " 0   도로명      731138 non-null  category\n",
      " 1   전용면적     731138 non-null  float64 \n",
      " 2   실거래지수    731138 non-null  float64 \n",
      " 3   is_test  731138 non-null  int64   \n",
      " 4   target   721866 non-null  float64 \n",
      "dtypes: category(1), float64(3), int64(1)\n",
      "memory usage: 29.6 MB\n"
     ]
    }
   ],
   "source": [
    "selected_concat.info()"
   ]
  },
  {
   "cell_type": "code",
   "execution_count": 72,
   "metadata": {},
   "outputs": [
    {
     "name": "stdout",
     "output_type": "stream",
     "text": [
      "              도로명  도로명_encoded\n",
      "0           언주로 3         6066\n",
      "1           언주로 3         6066\n",
      "2           언주로 3         6066\n",
      "3           언주로 3         6066\n",
      "4           언주로 3         6066\n",
      "...           ...          ...\n",
      "731133  신내역로1길 85         5461\n",
      "731134  신내역로1길 85         5461\n",
      "731135  신내역로1길 85         5461\n",
      "731136  신내역로1길 85         5461\n",
      "731137  신내역로1길 85         5461\n",
      "\n",
      "[731138 rows x 2 columns]\n"
     ]
    }
   ],
   "source": [
    "# LabelEncoder 객체 생성\n",
    "label_encoder = LabelEncoder()\n",
    "\n",
    "# '도로명' 열 라벨 인코딩\n",
    "selected_concat['도로명_encoded'] = label_encoder.fit_transform(selected_concat['도로명'])\n",
    "\n",
    "# 결과 출력\n",
    "print(selected_concat[['도로명', '도로명_encoded']])"
   ]
  },
  {
   "cell_type": "code",
   "execution_count": 73,
   "metadata": {},
   "outputs": [],
   "source": [
    "selected_concat = selected_concat.drop(['도로명'], axis=1)"
   ]
  },
  {
   "cell_type": "code",
   "execution_count": 74,
   "metadata": {},
   "outputs": [
    {
     "name": "stdout",
     "output_type": "stream",
     "text": [
      "<class 'pandas.core.frame.DataFrame'>\n",
      "Int64Index: 731138 entries, 0 to 731137\n",
      "Data columns (total 5 columns):\n",
      " #   Column       Non-Null Count   Dtype  \n",
      "---  ------       --------------   -----  \n",
      " 0   전용면적         731138 non-null  float64\n",
      " 1   실거래지수        731138 non-null  float64\n",
      " 2   is_test      731138 non-null  int64  \n",
      " 3   target       721866 non-null  float64\n",
      " 4   도로명_encoded  731138 non-null  int64  \n",
      "dtypes: float64(3), int64(2)\n",
      "memory usage: 33.5 MB\n"
     ]
    }
   ],
   "source": [
    "selected_concat.info()"
   ]
  },
  {
   "cell_type": "code",
   "execution_count": 75,
   "metadata": {},
   "outputs": [],
   "source": [
    "#selected_concat['도로명_encoded'] = selected_concat['도로명_encoded'].astype('category')"
   ]
  },
  {
   "cell_type": "code",
   "execution_count": 76,
   "metadata": {},
   "outputs": [
    {
     "name": "stdout",
     "output_type": "stream",
     "text": [
      "<class 'pandas.core.frame.DataFrame'>\n",
      "Int64Index: 731138 entries, 0 to 731137\n",
      "Data columns (total 5 columns):\n",
      " #   Column       Non-Null Count   Dtype  \n",
      "---  ------       --------------   -----  \n",
      " 0   전용면적         731138 non-null  float64\n",
      " 1   실거래지수        731138 non-null  float64\n",
      " 2   is_test      731138 non-null  int64  \n",
      " 3   target       721866 non-null  float64\n",
      " 4   도로명_encoded  731138 non-null  int64  \n",
      "dtypes: float64(3), int64(2)\n",
      "memory usage: 33.5 MB\n"
     ]
    }
   ],
   "source": [
    "selected_concat.info()"
   ]
  },
  {
   "cell_type": "code",
   "execution_count": 77,
   "metadata": {},
   "outputs": [
    {
     "name": "stdout",
     "output_type": "stream",
     "text": [
      "(721866, 4) (9272, 4)\n"
     ]
    }
   ],
   "source": [
    "# 이제 다시 train과 test dataset을 분할해줍니다. 위에서 제작해 놓았던 is_test 칼럼을 이용합니다.\n",
    "dt_train = selected_concat.query('is_test==0')\n",
    "dt_test = selected_concat.query('is_test==1')\n",
    "\n",
    "# 이제 is_test 칼럼은 drop해줍니다.\n",
    "dt_train.drop(['is_test'], axis = 1, inplace=True)\n",
    "dt_test.drop(['is_test'], axis = 1, inplace=True)\n",
    "print(dt_train.shape, dt_test.shape)"
   ]
  },
  {
   "cell_type": "code",
   "execution_count": 78,
   "metadata": {},
   "outputs": [
    {
     "name": "stdout",
     "output_type": "stream",
     "text": [
      "[LightGBM] [Warning] Accuracy may be bad since you didn't explicitly set num_leaves OR 2^max_depth > num_leaves. (num_leaves=31).\n",
      "[LightGBM] [Warning] Accuracy may be bad since you didn't explicitly set num_leaves OR 2^max_depth > num_leaves. (num_leaves=31).\n",
      "[LightGBM] [Info] Auto-choosing row-wise multi-threading, the overhead of testing was 0.001727 seconds.\n",
      "You can set `force_row_wise=true` to remove the overhead.\n",
      "And if memory is not enough, you can set `force_col_wise=true`.\n",
      "[LightGBM] [Info] Total Bins 614\n",
      "[LightGBM] [Info] Number of data points in the train set: 721866, number of used features: 3\n",
      "[LightGBM] [Info] Start training from score 65880.745652\n",
      "[LightGBM] [Warning] Accuracy may be bad since you didn't explicitly set num_leaves OR 2^max_depth > num_leaves. (num_leaves=31).\n"
     ]
    }
   ],
   "source": [
    "import lightgbm\n",
    "\n",
    "x, y, test = dt_train[['전용면적','도로명_encoded','실거래지수']], dt_train[['target']], dt_test[['전용면적','도로명_encoded','실거래지수']]\n",
    "\n",
    "pred = lightgbm.LGBMRegressor(n_estimators=100, learning_rate=0.01, max_depth=5).fit(x, y).predict(test)\n",
    "\n",
    "pd.DataFrame(pred.astype(int), columns=[\"target\"]).to_csv('sub_f2.csv', index=False)"
   ]
  }
 ],
 "metadata": {
  "kernelspec": {
   "display_name": "base",
   "language": "python",
   "name": "python3"
  },
  "language_info": {
   "codemirror_mode": {
    "name": "ipython",
    "version": 3
   },
   "file_extension": ".py",
   "mimetype": "text/x-python",
   "name": "python",
   "nbconvert_exporter": "python",
   "pygments_lexer": "ipython3",
   "version": "3.10.13"
  }
 },
 "nbformat": 4,
 "nbformat_minor": 2
}
